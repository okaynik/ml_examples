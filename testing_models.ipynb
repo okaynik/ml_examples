{
 "cells": [
  {
   "cell_type": "code",
   "execution_count": 1,
   "metadata": {},
   "outputs": [],
   "source": [
    "import numpy as np\n",
    "from matplotlib import pyplot as plt\n",
    "from tensorflow.keras.datasets import mnist\n",
    "import pickle\n",
    "np.set_printoptions(linewidth = 200)"
   ]
  },
  {
   "cell_type": "code",
   "execution_count": 2,
   "metadata": {},
   "outputs": [],
   "source": [
    "class MLP:\n",
    "\n",
    "    def __init__(self, num_inputs=3, hidden_layers =[2], num_outputs=2):\n",
    "\n",
    "        # Initiate array of layers size\n",
    "        self.num_inputs = num_inputs\n",
    "        self.hidden_layers = hidden_layers\n",
    "        self.num_outputs = num_outputs\n",
    "\n",
    "        # create a generic representation of the layers\n",
    "        layers = [num_inputs] + hidden_layers + [num_outputs]\n",
    "\n",
    "        # create random connection weights for the layers\n",
    "        self.weights = [(np.random.uniform(low = -0.5, high = 0.5, size = (layers[i] + 1, layers[i + 1]))) for i in range(len(layers) - 1)]\n",
    "\n",
    "        # save derivatives per layer\n",
    "        self.derivatives = [np.zeros((layers[i] + 1, layers[i + 1])) for i in range(len(layers) - 1)]\n",
    "\n",
    "        # save activations per layer\n",
    "\n",
    "        #print(layers)\n",
    "        #self.activations = [np.zeros(layers[i] + 1) if i!= len(layers)-1 else np.zeros(layers[i]) for i in range(len(layers))]\n",
    "        self.activations = [np.zeros(layers[i] + 1) for i in range(len(layers))]\n",
    "\n",
    "    \n",
    "    def back_propagate(self, error, debug = False):\n",
    "\n",
    "        for i in reversed(range(len(self.derivatives))):\n",
    "            # If w2, take derivative of a3\n",
    "            # define delta as: dE/da_(i+1) * s'(a_i+1)\n",
    "            if i == len(self.derivatives) - 1:\n",
    "                #print('here')\n",
    "                delta = error\n",
    "            else:\n",
    "                delta = error * self._sigmoid_derivative(self.activations[i+1][:-1])\n",
    "\n",
    "            # Converts delta from array [0.1, 0.2] to 1x2 matrix [[0.1, 0.2]]\n",
    "            delta_reshaped = delta.reshape(delta.shape[0],-1).T\n",
    "\n",
    "            # get activations for current layer\n",
    "            #current_activations = self.activations[i]\n",
    "\n",
    "            # Converts a_i from array [0.1, 0.2] to 2x1 matrix [[0.1], [0.2]]\n",
    "            current_activations = self.activations[i].reshape(self.activations[i].shape[0], -1)\n",
    "\n",
    "            # Get the matrix of derivatives for W_i\n",
    "            self.derivatives[i] = np.dot(current_activations, delta_reshaped)\n",
    "\n",
    "            # error for prev layer as: dE/da_(i+1) * s'(a_i+1) * W_i or delta * W_i\n",
    "            error = np.dot(delta, self.weights[i][:-1].T)\n",
    "\n",
    "            if debug:\n",
    "                print(f\"Derivatives for W{i}: {self.derivatives[i]}\")\n",
    "\n",
    "    def forward_propagate(self, inputs):\n",
    "\n",
    "        # Store the input layer activations\n",
    "        activations = inputs\n",
    "        self.activations[0][:-1] = activations\n",
    "        self.activations[0][-1] = 1\n",
    "        activations = np.append(activations, 1)\n",
    "\n",
    "        #print(self.activations)\n",
    "\n",
    "        for i, w in enumerate(self.weights):\n",
    "            # Calculate inputs h\n",
    "            #print(activations, i)\n",
    "            net_inputs = np.dot(activations, w)\n",
    "\n",
    "            # Calculate the activations\n",
    "            if i != len(self.weights) - 1:\n",
    "                activations = self._sigmoid(net_inputs)\n",
    "            else:\n",
    "                activations = net_inputs\n",
    "\n",
    "            # Save the activation for the current layer (if weights at W1, store a2)\n",
    "            self.activations[i+1][:-1] = activations\n",
    "            self.activations[i+1][-1] = 1\n",
    "            activations = np.append(activations, 1)\n",
    "\n",
    "        predictions = self._softmax(self.activations[-1][:-1])\n",
    "    \n",
    "        return predictions\n",
    "\n",
    "\n",
    "    def gradient_descent(self, learning_rate, debug = False):\n",
    "        for i in range(len(self.weights)):\n",
    "            self.weights[i] -= learning_rate * self.derivatives[i]\n",
    "\n",
    "\n",
    "    def train(self, inputs, targets, epochs = 10, learning_rate = 0.1, batch_size = 0):\n",
    "\n",
    "        for i in range(epochs):\n",
    "            sum_error = 0\n",
    "            for j in range(len(inputs)):\n",
    "\n",
    "                # Forward propagate\n",
    "                output = self.forward_propagate(inputs[j])\n",
    "\n",
    "                # Find derivative of loss function with respect to output layer\n",
    "                loss_derivative = output - targets[j]\n",
    "\n",
    "                # Back propagate to find the derivatives\n",
    "                self.back_propagate(loss_derivative)\n",
    "\n",
    "                # Gradient descent to update weights\n",
    "                self.gradient_descent(learning_rate)\n",
    "\n",
    "                # Calculate the error at this iteration\n",
    "                sum_error += self._mse(targets[j], output)\n",
    "            \n",
    "            # report error\n",
    "            print(f\"Epoch {i+1}, Mean Squared Error: {sum_error/len(inputs)}\")\n",
    "\n",
    "    @staticmethod\n",
    "    def _softmax(x):\n",
    "        e_x = np.exp(x - np.max(x))\n",
    "        return e_x / e_x.sum()\n",
    "    \n",
    "    @staticmethod\n",
    "    def _softmax_derivative(x):\n",
    "        s = x.reshape(-1,1)\n",
    "        return np.diagflat(s) - np.dot(s, s.T)\n",
    "\n",
    "    @staticmethod\n",
    "    def _mse(target, output):\n",
    "        return np.average((target - output) ** 2)\n",
    "\n",
    "    @staticmethod\n",
    "    def _sigmoid_derivative(x):\n",
    "        return x * (1.0 - x)\n",
    "\n",
    "    @staticmethod\n",
    "    def _sigmoid(x):\n",
    "        return 1.0 / (1 + np.exp(-x))"
   ]
  },
  {
   "cell_type": "code",
   "execution_count": 3,
   "metadata": {},
   "outputs": [],
   "source": [
    "(x_train, y_train),(x_test, y_test) = mnist.load_data()\n",
    "x_train_normalized = (x_train) / 255.0\n",
    "x_test_normalized = (x_test) / 255.0\n",
    "\n",
    "flattenedX = np.array([np.zeros(784) for _ in range(60000)])\n",
    "for i in range(len(x_train)):\n",
    "    flattenedX[i] = x_train_normalized[i].flatten()\n",
    "\n",
    "one_hot_y = np.array([np.zeros(10) for _ in range(60000)])\n",
    "for i in range(len(x_train)):\n",
    "    one_hot_y[i][y_train[i]] = 1\n",
    "\n",
    "flattenedTest = np.array([np.zeros(784) for _ in range(10000)])\n",
    "for i in range(len(flattenedTest)):\n",
    "    flattenedTest[i] = x_test_normalized[i].flatten()"
   ]
  },
  {
   "cell_type": "code",
   "execution_count": 4,
   "metadata": {},
   "outputs": [],
   "source": [
    "with open('mlp_data.pkl', 'rb') as input:\n",
    "    mlp = pickle.load(input)"
   ]
  },
  {
   "cell_type": "code",
   "execution_count": 6,
   "metadata": {},
   "outputs": [
    {
     "ename": "ValueError",
     "evalue": "could not broadcast input array from shape (784) into shape (783)",
     "output_type": "error",
     "traceback": [
      "\u001b[1;31m---------------------------------------------------------------------------\u001b[0m",
      "\u001b[1;31mValueError\u001b[0m                                Traceback (most recent call last)",
      "\u001b[1;32m~\\AppData\\Local\\Temp/ipykernel_14416/3543886574.py\u001b[0m in \u001b[0;36m<module>\u001b[1;34m\u001b[0m\n\u001b[0;32m      5\u001b[0m \u001b[0mplt\u001b[0m\u001b[1;33m.\u001b[0m\u001b[0mtitle\u001b[0m\u001b[1;33m(\u001b[0m\u001b[0my_test\u001b[0m\u001b[1;33m[\u001b[0m\u001b[0mindex\u001b[0m\u001b[1;33m]\u001b[0m\u001b[1;33m)\u001b[0m\u001b[1;33m\u001b[0m\u001b[1;33m\u001b[0m\u001b[0m\n\u001b[0;32m      6\u001b[0m \u001b[1;33m\u001b[0m\u001b[0m\n\u001b[1;32m----> 7\u001b[1;33m \u001b[0moutput\u001b[0m \u001b[1;33m=\u001b[0m \u001b[0mmlp\u001b[0m\u001b[1;33m.\u001b[0m\u001b[0mforward_propagate\u001b[0m\u001b[1;33m(\u001b[0m\u001b[0mflattenedTest\u001b[0m\u001b[1;33m[\u001b[0m\u001b[0mindex\u001b[0m\u001b[1;33m]\u001b[0m\u001b[1;33m)\u001b[0m\u001b[1;33m\u001b[0m\u001b[1;33m\u001b[0m\u001b[0m\n\u001b[0m\u001b[0;32m      8\u001b[0m \u001b[0mprediction\u001b[0m \u001b[1;33m=\u001b[0m \u001b[0mnp\u001b[0m\u001b[1;33m.\u001b[0m\u001b[0margmax\u001b[0m\u001b[1;33m(\u001b[0m\u001b[0moutput\u001b[0m\u001b[1;33m)\u001b[0m\u001b[1;33m\u001b[0m\u001b[1;33m\u001b[0m\u001b[0m\n\u001b[0;32m      9\u001b[0m \u001b[0mprobability\u001b[0m \u001b[1;33m=\u001b[0m \u001b[0moutput\u001b[0m\u001b[1;33m[\u001b[0m\u001b[0mprediction\u001b[0m\u001b[1;33m]\u001b[0m\u001b[1;33m\u001b[0m\u001b[1;33m\u001b[0m\u001b[0m\n",
      "\u001b[1;32m~\\AppData\\Local\\Temp/ipykernel_14416/2390266478.py\u001b[0m in \u001b[0;36mforward_propagate\u001b[1;34m(self, inputs)\u001b[0m\n\u001b[0;32m     57\u001b[0m         \u001b[1;31m# Store the input layer activations\u001b[0m\u001b[1;33m\u001b[0m\u001b[1;33m\u001b[0m\u001b[1;33m\u001b[0m\u001b[0m\n\u001b[0;32m     58\u001b[0m         \u001b[0mactivations\u001b[0m \u001b[1;33m=\u001b[0m \u001b[0minputs\u001b[0m\u001b[1;33m\u001b[0m\u001b[1;33m\u001b[0m\u001b[0m\n\u001b[1;32m---> 59\u001b[1;33m         \u001b[0mself\u001b[0m\u001b[1;33m.\u001b[0m\u001b[0mactivations\u001b[0m\u001b[1;33m[\u001b[0m\u001b[1;36m0\u001b[0m\u001b[1;33m]\u001b[0m\u001b[1;33m[\u001b[0m\u001b[1;33m:\u001b[0m\u001b[1;33m-\u001b[0m\u001b[1;36m1\u001b[0m\u001b[1;33m]\u001b[0m \u001b[1;33m=\u001b[0m \u001b[0mactivations\u001b[0m\u001b[1;33m\u001b[0m\u001b[1;33m\u001b[0m\u001b[0m\n\u001b[0m\u001b[0;32m     60\u001b[0m         \u001b[0mself\u001b[0m\u001b[1;33m.\u001b[0m\u001b[0mactivations\u001b[0m\u001b[1;33m[\u001b[0m\u001b[1;36m0\u001b[0m\u001b[1;33m]\u001b[0m\u001b[1;33m[\u001b[0m\u001b[1;33m-\u001b[0m\u001b[1;36m1\u001b[0m\u001b[1;33m]\u001b[0m \u001b[1;33m=\u001b[0m \u001b[1;36m1\u001b[0m\u001b[1;33m\u001b[0m\u001b[1;33m\u001b[0m\u001b[0m\n\u001b[0;32m     61\u001b[0m         \u001b[0mactivations\u001b[0m \u001b[1;33m=\u001b[0m \u001b[0mnp\u001b[0m\u001b[1;33m.\u001b[0m\u001b[0mappend\u001b[0m\u001b[1;33m(\u001b[0m\u001b[0mactivations\u001b[0m\u001b[1;33m,\u001b[0m \u001b[1;36m1\u001b[0m\u001b[1;33m)\u001b[0m\u001b[1;33m\u001b[0m\u001b[1;33m\u001b[0m\u001b[0m\n",
      "\u001b[1;31mValueError\u001b[0m: could not broadcast input array from shape (784) into shape (783)"
     ]
    },
    {
     "data": {
      "image/png": "[encoded data removed]",
      "text/plain": [
       "<Figure size 360x360 with 1 Axes>"
      ]
     },
     "metadata": {
      "needs_background": "light"
     },
     "output_type": "display_data"
    }
   ],
   "source": [
    "index = 2151\n",
    "\n",
    "plt.figure(figsize=(5,5))\n",
    "plt.imshow(x_test_normalized[index])\n",
    "plt.title(y_test[index])\n",
    "\n",
    "output = mlp.forward_propagate(flattenedTest[index])\n",
    "prediction = np.argmax(output)\n",
    "probability = output[prediction]\n",
    "\n",
    "print(f\"Prediction: {prediction}, probability: {probability * 100}%\")"
   ]
  }
 ],
 "metadata": {
  "kernelspec": {
   "display_name": "Python 3.8.10 ('lime')",
   "language": "python",
   "name": "python3"
  },
  "language_info": {
   "codemirror_mode": {
    "name": "ipython",
    "version": 3
   },
   "file_extension": ".py",
   "mimetype": "text/x-python",
   "name": "python",
   "nbconvert_exporter": "python",
   "pygments_lexer": "ipython3",
   "version": "3.8.10"
  },
  "metadata": {
   "interpreter": {
    "hash": "2db524e06e9f5f4ffedc911c917cb75e12dbc923643829bf417064a77eb14d37"
   }
  },
  "orig_nbformat": 2,
  "vscode": {
   "interpreter": {
    "hash": "33121ecfcfef617be9cee54901a88539f25a6f6617b81e9cc1fb23984e818646"
   }
  }
 },
 "nbformat": 4,
 "nbformat_minor": 2
}
